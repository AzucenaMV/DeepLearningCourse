{
 "cells": [
  {
   "cell_type": "markdown",
   "metadata": {},
   "source": [
    "# ECE 590, Fall 2019 \n",
    "## Problem Set 4 \n",
    "\n",
    "## Full name: \n"
   ]
  },
  {
   "cell_type": "code",
   "execution_count": 22,
   "metadata": {},
   "outputs": [],
   "source": [
    "### Problem 2"
   ]
  },
  {
   "cell_type": "code",
   "execution_count": 23,
   "metadata": {},
   "outputs": [
    {
     "name": "stdout",
     "output_type": "stream",
     "text": [
      "Number of iterations  7\n"
     ]
    }
   ],
   "source": [
    "import numpy as np\n",
    "xo = [2, 2, 2, 2, 2]\n",
    "\n",
    "def L(x):\n",
    "    return sum([xi**2 for xi in x]) + sum([x[i]*x[j] for i in range(0,5) for j in range(i+1,len(x))])\n",
    "    \n",
    "def gradL(x):\n",
    "    return np.array([sum(x)+xi for xi in x])\n",
    "\n",
    "def grad(x):\n",
    "    t = 1\n",
    "    x = np.array(x)\n",
    "    while L(x) > .01:\n",
    "        x = x - (1/t)*gradL(x)\n",
    "        t += 1\n",
    "    return (t,x)\n",
    "\n",
    "print(\"Number of iterations \",grad(xo)[0])"
   ]
  },
  {
   "cell_type": "markdown",
   "metadata": {},
   "source": [
    "### Problem 3 (Binary Classification with Pytorch)"
   ]
  },
  {
   "cell_type": "code",
   "execution_count": 24,
   "metadata": {},
   "outputs": [],
   "source": [
    "# import packages \n",
    "import pandas as pd \n",
    "from sklearn.model_selection import train_test_split\n",
    "import torch\n",
    "import torch.nn.functional as F\n",
    "import torch.nn as nn"
   ]
  },
  {
   "cell_type": "code",
   "execution_count": 25,
   "metadata": {},
   "outputs": [],
   "source": [
    "\"\"\" data preparation \"\"\"\n",
    "\n",
    "# read csv file \n",
    "df = pd.read_csv(\"breast_cancer.csv\") # df denotes a data frame \n",
    "\n",
    "# extract the 'diagnosis' column as your targets \n",
    "targets = df['diagnosis'].values\n",
    "\n",
    "# convert the entries of targets to 0/1 \n",
    "    \n",
    "targets = (targets == \"M\") * 1\n",
    "     \n",
    "# extract your features data\n",
    "data = df.drop(['diagnosis', 'id'], axis=1).values\n",
    "\n",
    "# train/test split \n",
    "X_train, X_test, y_train, y_test = train_test_split(data, targets, test_size=0.3, random_state=40)"
   ]
  },
  {
   "cell_type": "code",
   "execution_count": 26,
   "metadata": {},
   "outputs": [],
   "source": [
    "#w_train, w_test = \n",
    "X_train, y_train = torch.from_numpy(X_train).float(), torch.from_numpy(y_train).float()\n",
    "X_test, y_test = torch.from_numpy(X_test).float(), torch.from_numpy(y_test).float() "
   ]
  },
  {
   "cell_type": "code",
   "execution_count": 27,
   "metadata": {},
   "outputs": [],
   "source": [
    "import torch\n",
    "import torch.nn.functional as F\n",
    "import torch.nn as nn\n",
    "import matplotlib.pyplot as plt"
   ]
  },
  {
   "cell_type": "code",
   "execution_count": 28,
   "metadata": {},
   "outputs": [],
   "source": [
    "n_features = 12\n",
    "class binary_classification(nn.Module):\n",
    "    def __init__(self, n_features, out_features, bias):\n",
    "        super(binary_classification, self).__init__()\n",
    "        self.linear = nn.Linear(in_features=n_features, out_features=1, bias= False)\n",
    "        self.sigmoid = nn.Sigmoid()\n",
    "\n",
    "    def forward(self, x):\n",
    "        a1 = self.linear(x)\n",
    "        y = self.sigmoid(a1)\n",
    "        return y\n",
    "\n",
    "model = binary_classification(n_features, 1, False)\n",
    "criterion = nn.BCELoss()\n",
    "optimizer = torch.optim.SGD(model.parameters(), lr=0.001)\n",
    "losses = []\n",
    "num_iter = 1000\n",
    "\n",
    "for i in range(num_iter):\n",
    "    def closure():\n",
    "        optimizer.zero_grad()\n",
    "        y_hat_train = model(X_train)     # Forward Pass\n",
    "        #loss =  - y_train *torch.log(y_hat_train) - (1-y_train)*torch.log(1-y_hat_train)\n",
    "        loss = criterion(y_hat_train.squeeze(), y_train)\n",
    "        loss.backward()      # backward Pass\n",
    "        losses.append(loss.item())\n",
    "        return loss\n",
    "    optimizer.step(closure)\n",
    "\n",
    "with torch.no_grad():\n",
    "    model.eval()\n",
    "    y_hat_test = model(X_test)\n",
    "    #mse =  - y_test *torch.log(y_hat_test) - (1-y_test)*torch.log(1-y_hat_test)\n",
    "    mse = criterion(y_hat_test.squeeze(), y_test)\n",
    "Weight = model.linear.weight"
   ]
  },
  {
   "cell_type": "code",
   "execution_count": 29,
   "metadata": {},
   "outputs": [
    {
     "data": {
      "image/png": "[encoded data removed]",
      "text/plain": [
       "<Figure size 432x288 with 1 Axes>"
      ]
     },
     "metadata": {
      "needs_background": "light"
     },
     "output_type": "display_data"
    }
   ],
   "source": [
    "plt.figure()\n",
    "plt.plot(list(range(len(losses))), losses, color='blue', linewidth=2, label='Learning curve')\n",
    "plt.legend()\n",
    "plt.xlabel('Iterations')\n",
    "plt.ylabel('MSE')\n",
    "plt.grid()\n",
    "plt.show()"
   ]
  },
  {
   "cell_type": "code",
   "execution_count": 30,
   "metadata": {},
   "outputs": [],
   "source": [
    "n_features = 12\n",
    "class binary_classification_layers(nn.Module):\n",
    "    def __init__(self, n_features, out_features, bias):\n",
    "        super(binary_classification_layers, self).__init__()\n",
    "        self.linear1 = nn.Linear(n_features, 32)\n",
    "        self.linear2 = nn.Linear(32, 16)\n",
    "        self.linear3 = nn.Linear(16, out_features)\n",
    "        self.sigmoid = nn.Sigmoid()\n",
    "        self.relu = nn.ReLU()\n",
    "\n",
    "    def forward(self, x):\n",
    "        a1 = self.linear1(x)\n",
    "        h1 = self.relu(a1)\n",
    "        a2 = self.linear2(h1)\n",
    "        h2 = self.relu(a2)\n",
    "        a3 = self.linear3(h2)\n",
    "        y = self.sigmoid(a3)\n",
    "        return y\n",
    "\n",
    "model = binary_classification_layers(n_features, 1, True)\n",
    "#loss = - t*np.log(y) - (1-t)*np.log(1-y)\n",
    "#criterion = nn.CrossEntropyLoss()\n",
    "criterion = nn.BCELoss()\n",
    "optimizer = torch.optim.SGD(model.parameters(), lr=0.001)\n",
    "losses = []\n",
    "num_iter = 500\n",
    "\n",
    "for i in range(num_iter):\n",
    "    def closure():\n",
    "        optimizer.zero_grad()\n",
    "        y_hat_train = model(X_train)     # Forward Pass\n",
    "        #loss =  - y_train *torch.log(y_hat_train) - (1-y_train)*torch.log(1-y_hat_train)\n",
    "        loss = criterion(y_hat_train.squeeze(), y_train)\n",
    "        loss.backward()      # backward Pass\n",
    "        losses.append(loss.item())\n",
    "        return loss\n",
    "    optimizer.step(closure)\n",
    "\n",
    "with torch.no_grad():\n",
    "    model.eval()\n",
    "    y_hat_test = model(X_test)\n",
    "    #mse =  - y_test *torch.log(y_hat_test) - (1-y_test)*torch.log(1-y_hat_test)\n",
    "    mse = criterion(y_hat_test.squeeze(), y_test)\n",
    "#Weight = model.linear.weight"
   ]
  },
  {
   "cell_type": "code",
   "execution_count": 31,
   "metadata": {},
   "outputs": [
    {
     "data": {
      "image/png": "[encoded data removed]",
      "text/plain": [
       "<Figure size 432x288 with 1 Axes>"
      ]
     },
     "metadata": {
      "needs_background": "light"
     },
     "output_type": "display_data"
    }
   ],
   "source": [
    "plt.figure()\n",
    "plt.plot(list(range(len(losses))), losses, color='blue', linewidth=2, label='Learning curve')\n",
    "plt.legend()\n",
    "plt.xlabel('Iterations')\n",
    "plt.ylabel('Loss')\n",
    "plt.grid()\n",
    "plt.show()"
   ]
  },
  {
   "cell_type": "markdown",
   "metadata": {},
   "source": [
    "### Problem 5 (Implementing a Two-Layer Neural Network)"
   ]
  },
  {
   "cell_type": "markdown",
   "metadata": {},
   "source": [
    "Recall that when training your model you are required to compute the gradient of the loss with respect\n",
    "to the model parameters. Repeat the tasks required in part 2 (See Figure 2) of Problem 3 without\n",
    "using the Optim package from Pytorch and by implementing full Gradient Descent from scratch\n",
    "(Autograd is not allowed). In other words, you have to implemnt the backward propagation and the\n",
    "full gradient descent algorithms by yourself."
   ]
  },
  {
   "cell_type": "code",
   "execution_count": 32,
   "metadata": {},
   "outputs": [],
   "source": [
    "# Put your code here \n",
    "# import packages \n",
    "import pandas as pd \n",
    "from sklearn.model_selection import train_test_split\n",
    "\n",
    "import torch\n",
    "import torch.nn.functional as F\n",
    "import torch.nn as nn"
   ]
  },
  {
   "cell_type": "code",
   "execution_count": 33,
   "metadata": {},
   "outputs": [],
   "source": [
    "n_features = 12\n",
    "class binary_classification_layers(nn.Module):\n",
    "    def __init__(self, n_features, out_features, bias, alpha):\n",
    "        super(binary_classification_layers, self).__init__()\n",
    "        self.linear1 = nn.Linear(n_features, 32)\n",
    "        self.linear2 = nn.Linear(32, 16)\n",
    "        self.linear3 = nn.Linear(16, out_features)\n",
    "        self.sigmoid = nn.Sigmoid()\n",
    "        self.relu = nn.ReLU()\n",
    "        self.alpha = alpha\n",
    "\n",
    "    def forward(self, x):\n",
    "        Z1 = self.linear1(x)\n",
    "        H1 = self.relu(Z1)\n",
    "        Z2 = self.linear2(H1)\n",
    "        H2 = self.relu(Z2)\n",
    "        Z3 = self.linear3(H2)\n",
    "        Y = self.sigmoid(Z3)\n",
    "        return {'Y_hat':Y,'Z1':Z1, 'Z2':Z2, 'Z3':Z3, 'H1':H1, 'H2':H2}\n",
    "    \n",
    "    def backward(self,X,Y):\n",
    "        output = self.forward(X)\n",
    "        Y_hat = output['Y_hat']\n",
    "        Z1 = output['Z1']\n",
    "        Z2 = output['Z2']\n",
    "        Z3 = output['Z3']\n",
    "        H1 = output['H1']\n",
    "        H2 = output['H2']\n",
    "        with torch.no_grad():  \n",
    "            W1 = self.linear1.weight\n",
    "            W2 = self.linear2.weight\n",
    "            W3 = self.linear3.weight\n",
    "            \n",
    "            Y = Y.reshape(-1,1)\n",
    "            dYdW3 = torch.mm(torch.t(H2),(Y_hat - Y))\n",
    "            M = torch.mm((Y_hat-Y),W3)\n",
    "            M0 = torch.zeros(Z2.shape)\n",
    "            M_Z2 = torch.where(Z2>=0,M,M0)\n",
    "            dYdW2 = torch.mm(torch.t(H1), M_Z2)\n",
    "            N = torch.mm(M_Z2,W2)\n",
    "            N0 = torch.zeros(Z1.shape)\n",
    "            N_Z2 = torch.where(Z1>=0,N,N0)\n",
    "            dYdW1 = torch.mm(torch.t(X),N_Z2)\n",
    "\n",
    "            self.linear1.weight -=  self.alpha * torch.t(dYdW1)\n",
    "            self.linear2.weight -=  self.alpha * torch.t(dYdW2)\n",
    "            self.linear3.weight -= self.alpha * torch.t(dYdW3)\n",
    "        return Y_hat\n",
    "\n",
    "model = binary_classification_layers(n_features, 1, True, .00001)\n",
    "criterion = nn.BCELoss()\n",
    "losses = []\n",
    "num_iter = 500\n",
    "\n",
    "for i in range(num_iter):\n",
    "    y_hat_train = model.backward(X_train, y_train)\n",
    "    loss = criterion(y_hat_train.squeeze(), y_train)\n",
    "    losses.append(loss.item())\n",
    "\n",
    "with torch.no_grad():\n",
    "    model.eval()\n",
    "    y_hat_test = model.backward(X_test, y_test)\n",
    "    mse = criterion(y_hat_test.squeeze(), y_test)\n",
    "\n"
   ]
  },
  {
   "cell_type": "code",
   "execution_count": 34,
   "metadata": {},
   "outputs": [
    {
     "data": {
      "image/png": "[encoded data removed]",
      "text/plain": [
       "<Figure size 432x288 with 1 Axes>"
      ]
     },
     "metadata": {
      "needs_background": "light"
     },
     "output_type": "display_data"
    }
   ],
   "source": [
    "plt.figure()\n",
    "plt.plot(list(range(len(losses))), losses, color='blue', linewidth=2, label='Learning curve')\n",
    "plt.legend()\n",
    "plt.xlabel('Iterations')\n",
    "plt.ylabel('Loss')\n",
    "plt.grid()\n",
    "plt.show()"
   ]
  }
 ],
 "metadata": {
  "kernelspec": {
   "display_name": "Python 3",
   "language": "python",
   "name": "python3"
  },
  "language_info": {
   "codemirror_mode": {
    "name": "ipython",
    "version": 3
   },
   "file_extension": ".py",
   "mimetype": "text/x-python",
   "name": "python",
   "nbconvert_exporter": "python",
   "pygments_lexer": "ipython3",
   "version": "3.7.3"
  }
 },
 "nbformat": 4,
 "nbformat_minor": 4
}
