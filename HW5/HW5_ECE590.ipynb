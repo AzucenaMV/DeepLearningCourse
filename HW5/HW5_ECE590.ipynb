{
 "cells": [
  {
   "cell_type": "markdown",
   "metadata": {},
   "source": [
    "# ECE 590, Fall 2019 \n",
    "## Problem Set 5\n",
    " \n",
    "\n",
    "## Full name: \n"
   ]
  },
  {
   "cell_type": "code",
   "execution_count": 14,
   "metadata": {},
   "outputs": [
    {
     "data": {
      "text/plain": [
       "'\\nThe data features can be extracted as train_dataset/test_dataset.data\\nThe labels can be extracted as train_dataset/test_dataset.targets \\n'"
      ]
     },
     "execution_count": 14,
     "metadata": {},
     "output_type": "execute_result"
    }
   ],
   "source": [
    "import torch\n",
    "import torchvision.datasets as dsets\n",
    "import torchvision.transforms as transforms\n",
    "\n",
    "# Download and prepare the Fashion MNIST data set \n",
    "train_dataset = dsets.FashionMNIST(root='./data', train=True, transform=transforms.ToTensor(), download=True)\n",
    "test_dataset = dsets.FashionMNIST(root='./data', train=False, transform=transforms.ToTensor())\n",
    "\n",
    "\"\"\"\n",
    "The data features can be extracted as train_dataset/test_dataset.data\n",
    "The labels can be extracted as train_dataset/test_dataset.targets \n",
    "\"\"\"\n"
   ]
  },
  {
   "cell_type": "code",
   "execution_count": 15,
   "metadata": {},
   "outputs": [],
   "source": [
    "batch_size = 10\n",
    "trainloader = torch.utils.data.DataLoader(train_dataset, batch_size = batch_size, shuffle=True, num_workers=0)\n",
    "testloader = torch.utils.data.DataLoader(test_dataset, batch_size = batch_size, shuffle=False, num_workers=0)"
   ]
  },
  {
   "cell_type": "code",
   "execution_count": 16,
   "metadata": {},
   "outputs": [],
   "source": [
    "import torch\n",
    "import torch.nn as nn\n",
    "import torch.nn.functional as F\n",
    "import torch.optim\n",
    "import torchvision\n",
    "import torchvision.transforms as transforms\n",
    "import torch.optim as optim\n",
    "import matplotlib.pyplot as plt\n",
    "import numpy as np"
   ]
  },
  {
   "cell_type": "code",
   "execution_count": 17,
   "metadata": {},
   "outputs": [],
   "source": [
    "# Put your code here \n",
    "\n",
    "class CNN(nn.Module):\n",
    "    def __init__(self, in_channels, out_channels):\n",
    "        super(CNN, self).__init__()\n",
    "        self.conv = nn.Conv2d(in_channels=in_channels, out_channels=out_channels, kernel_size=5, stride=1, padding=0, bias=True)\n",
    "        self.fc1   = nn.Linear(in_features=1440, out_features=10) \n",
    "        \n",
    "    def forward(self, x):\n",
    "        x = self.conv(x)\n",
    "        x = F.relu(x)\n",
    "        x = F.max_pool2d(x, 2)\n",
    "        x = x.view(x.size(0), -1)\n",
    "        x = self.fc1(x)\n",
    "        #x = F.Softmax(x)\n",
    "        return x"
   ]
  },
  {
   "cell_type": "code",
   "execution_count": 18,
   "metadata": {},
   "outputs": [],
   "source": [
    "def train(model, train_loader, criterion, optimizer, epoch):\n",
    "    train_loss = 0\n",
    "    model.train()\n",
    "    for batch_idx, (data, target) in enumerate(train_loader):\n",
    "        optimizer.zero_grad()\n",
    "        output = model(data)\n",
    "        loss = criterion(output, target)\n",
    "        loss.backward()\n",
    "        optimizer.step()\n",
    "        train_loss += loss.item()\n",
    "        if batch_idx % (len(train_loader)//2) == 0:\n",
    "            print('Train({})[{:.0f}%]: Loss: {:.4f}'.format(\n",
    "                epoch, 100. * batch_idx / len(train_loader), train_loss/(batch_idx+1)))\n",
    "\n",
    "def test(model, test_loader, criterion, epoch):\n",
    "    model.eval()\n",
    "    test_loss = 0\n",
    "    correct = 0\n",
    "    with torch.no_grad():\n",
    "        for data, target in test_loader:\n",
    "            output = model(data)\n",
    "            test_loss += criterion(output, target).item() # sum up batch loss\n",
    "            pred = output.argmax(dim=1, keepdim=True) # get the index of the max log-probability\n",
    "            correct += pred.eq(target.view_as(pred)).sum().item()\n",
    "\n",
    "    test_loss = (test_loss*batch_size)/len(test_loader.dataset)\n",
    "    print('Test({}): Loss: {:.4f}, Accuracy: {:.4f}%'.format(\n",
    "        epoch, test_loss, 100. * correct / len(test_loader.dataset)))"
   ]
  },
  {
   "cell_type": "code",
   "execution_count": 19,
   "metadata": {},
   "outputs": [
    {
     "name": "stdout",
     "output_type": "stream",
     "text": [
      "Train(1)[0%]: Loss: 2.2833\n",
      "Train(1)[50%]: Loss: 0.5234\n",
      "Test(1): Loss: 0.3656, Accuracy: 87.2600%\n",
      "Optimizer Learning rate: 0.0010\n",
      "Train(2)[0%]: Loss: 0.0729\n",
      "Train(2)[50%]: Loss: 0.3369\n",
      "Test(2): Loss: 0.3229, Accuracy: 88.7800%\n",
      "Optimizer Learning rate: 0.0010\n",
      "Train(3)[0%]: Loss: 0.1750\n",
      "Train(3)[50%]: Loss: 0.2897\n",
      "Test(3): Loss: 0.3055, Accuracy: 89.3500%\n",
      "Optimizer Learning rate: 0.0010\n",
      "Train(4)[0%]: Loss: 0.6021\n",
      "Train(4)[50%]: Loss: 0.2738\n",
      "Test(4): Loss: 0.3066, Accuracy: 88.9700%\n",
      "Optimizer Learning rate: 0.0010\n",
      "Train(5)[0%]: Loss: 0.0393\n",
      "Train(5)[50%]: Loss: 0.2505\n",
      "Test(5): Loss: 0.3067, Accuracy: 89.3500%\n",
      "Optimizer Learning rate: 0.0010\n",
      "Train(6)[0%]: Loss: 0.2853\n",
      "Train(6)[50%]: Loss: 0.2413\n",
      "Test(6): Loss: 0.2977, Accuracy: 89.6800%\n",
      "Optimizer Learning rate: 0.0010\n",
      "Train(7)[0%]: Loss: 0.1552\n",
      "Train(7)[50%]: Loss: 0.2307\n",
      "Test(7): Loss: 0.2991, Accuracy: 89.7500%\n",
      "Optimizer Learning rate: 0.0010\n",
      "Train(8)[0%]: Loss: 0.3226\n",
      "Train(8)[50%]: Loss: 0.2256\n",
      "Test(8): Loss: 0.2965, Accuracy: 89.1300%\n",
      "Optimizer Learning rate: 0.0010\n",
      "Train(9)[0%]: Loss: 0.4467\n",
      "Train(9)[50%]: Loss: 0.2191\n",
      "Test(9): Loss: 0.2941, Accuracy: 89.8900%\n",
      "Optimizer Learning rate: 0.0010\n",
      "Train(10)[0%]: Loss: 0.6970\n",
      "Train(10)[50%]: Loss: 0.2151\n",
      "Test(10): Loss: 0.3217, Accuracy: 89.2100%\n",
      "Optimizer Learning rate: 0.0010\n"
     ]
    }
   ],
   "source": [
    "seed = 1\n",
    "num_epochs = 10\n",
    "lr = 0.05\n",
    "torch.manual_seed(1)\n",
    "in_channels = 1 \n",
    "out_channels = 10\n",
    "model = CNN(in_channels, out_channels)\n",
    "criterion = nn.CrossEntropyLoss()\n",
    "optimizer = optim.Adam(model.parameters(),betas=(0.9, 0.999), eps=1e-8, lr=0.001)\n",
    "for epoch in range(1, num_epochs + 1):\n",
    "    train(model,trainloader, criterion, optimizer, epoch)\n",
    "    test(model,testloader, criterion, epoch)\n",
    "    print('Optimizer Learning rate: {0:.4f}'.format(optimizer.param_groups[0]['lr']))"
   ]
  },
  {
   "cell_type": "code",
   "execution_count": null,
   "metadata": {},
   "outputs": [],
   "source": []
  }
 ],
 "metadata": {
  "kernelspec": {
   "display_name": "Python 3",
   "language": "python",
   "name": "python3"
  },
  "language_info": {
   "codemirror_mode": {
    "name": "ipython",
    "version": 3
   },
   "file_extension": ".py",
   "mimetype": "text/x-python",
   "name": "python",
   "nbconvert_exporter": "python",
   "pygments_lexer": "ipython3",
   "version": "3.7.3"
  }
 },
 "nbformat": 4,
 "nbformat_minor": 4
}
